{
 "cells": [
  {
   "cell_type": "markdown",
   "metadata": {},
   "source": [
    "# Coding Project\n",
    "## Ph 549: Physics of Biological Systems\n",
    "\n",
    "**Author**: Vedant Prakash Shenoy"
   ]
  },
  {
   "cell_type": "markdown",
   "metadata": {},
   "source": [
    "The microtubule is represented by an array of 0s and 1s. The 0 corresponds to the GDP<sup>-</sup> and 1 corresponds to GTP<sup>+</sup>. There are 3 processes which determine growth of microtubule molecules.\n",
    "\n",
    "$$|\\cdots+\\rangle \\overset{\\lambda}{\\longrightarrow} |\\cdots++\\rangle $$\n",
    "$$|\\cdots-\\rangle \\overset{p\\lambda}{\\longrightarrow} |\\cdots-+\\rangle $$\n",
    "$$|\\cdots+\\cdots\\rangle \\overset{1}{\\longrightarrow} |\\cdots-\\cdots\\rangle $$\n",
    "$$|\\cdots-\\rangle \\overset{\\mu}{\\longrightarrow} |\\cdots\\rangle $$\n",
    "\n",
    "3 parameters control the growth of the microtubules."
   ]
  },
  {
   "cell_type": "markdown",
   "metadata": {},
   "source": [
    "---"
   ]
  },
  {
   "cell_type": "markdown",
   "metadata": {},
   "source": [
    "We will use `numpy` for vectorized array operations (and later for data serialization), `numba` for JIT compilation (this speeds up the program significantly; for example, (a previous version of) the function to make the final image took ~50 minutes without JIT compiling, and ~7 minutes when JIT compilation was introduced just for the `microtubule_step` function)\n",
    "\n",
    "`matplotlib` offers an easy plotting API"
   ]
  },
  {
   "cell_type": "code",
   "execution_count": 1,
   "metadata": {},
   "outputs": [],
   "source": [
    "import numpy as np\n",
    "from numba import njit\n",
    "import matplotlib.pyplot as plt"
   ]
  },
  {
   "cell_type": "markdown",
   "metadata": {},
   "source": [
    "The following imports are to implement multiprocessing which will be useful for Figure 6"
   ]
  },
  {
   "cell_type": "code",
   "execution_count": 2,
   "metadata": {},
   "outputs": [],
   "source": [
    "from functools import partial\n",
    "from multiprocessing import pool"
   ]
  },
  {
   "cell_type": "markdown",
   "metadata": {},
   "source": [
    "Other imports required for Figure 6"
   ]
  },
  {
   "cell_type": "code",
   "execution_count": 3,
   "metadata": {},
   "outputs": [],
   "source": [
    "import os\n",
    "import matplotlib as mpl"
   ]
  },
  {
   "cell_type": "markdown",
   "metadata": {},
   "source": [
    "Change some plotting defaults"
   ]
  },
  {
   "cell_type": "code",
   "execution_count": 4,
   "metadata": {},
   "outputs": [],
   "source": [
    "plt.rcParams['font.size'] = 12\n",
    "\n",
    "plt.rcParams['xtick.direction'] = 'in'\n",
    "plt.rcParams['ytick.direction'] = 'in'\n",
    "\n",
    "plt.rcParams['xtick.top'] = True\n",
    "plt.rcParams['ytick.right'] = True"
   ]
  },
  {
   "cell_type": "markdown",
   "metadata": {},
   "source": [
    "---"
   ]
  },
  {
   "cell_type": "code",
   "execution_count": 5,
   "metadata": {},
   "outputs": [],
   "source": [
    "@njit\n",
    "def transition_rates(chain, lam, p, mu):\n",
    "    \"\"\"Calculates transition rates for every possible transition given a chain\"\"\"\n",
    "    k_attach = lam if chain[-1] else p*lam\n",
    "    k_convert = np.ones(np.where(chain)[0].size)\n",
    "    k_detach = mu if not chain[-1] else 0\n",
    "\n",
    "    return np.append(np.append(k_attach, k_convert), k_detach)"
   ]
  },
  {
   "cell_type": "code",
   "execution_count": 6,
   "metadata": {},
   "outputs": [],
   "source": [
    "@njit\n",
    "def island_lens(chain):\n",
    "    \"\"\"Find lengths of GTP islands, i.e. 1s\"\"\"\n",
    "    points_of_change = np.where(np.diff(chain))[0] + 1\n",
    "    if chain[0]:\n",
    "        points_of_change = np.append(0, points_of_change)\n",
    "    if chain[-1]:\n",
    "        points_of_change = np.append(points_of_change, chain.size)\n",
    "    ilens = points_of_change.reshape(-1,2)\n",
    "    ilens = ilens[:,1]-ilens[:,0]\n",
    "    return ilens"
   ]
  },
  {
   "cell_type": "code",
   "execution_count": 7,
   "metadata": {},
   "outputs": [],
   "source": [
    "@njit\n",
    "def microtubule_step(chain, lam, p, mu):\n",
    "    \"\"\"Implement step in the BLK algorithm\n",
    "    \n",
    "    Returns the new chain and the time step\n",
    "    \"\"\"\n",
    "    cum_rate = np.cumsum(transition_rates(chain, lam, p, mu))\n",
    "\n",
    "    ind = np.searchsorted(cum_rate, np.random.random()*cum_rate[-1])\n",
    "    dt = np.log(1/np.random.random())/cum_rate[-1]\n",
    "    \n",
    "    if ind==0:\n",
    "        return np.append(chain, 1), dt\n",
    "    elif ind==cum_rate.size-1:\n",
    "        return chain[:-1], dt\n",
    "    else:\n",
    "        chain[np.where(chain==1)[0][ind-1]] = 0\n",
    "        return chain, dt\n"
   ]
  },
  {
   "cell_type": "code",
   "execution_count": 8,
   "metadata": {},
   "outputs": [],
   "source": [
    "class State:\n",
    "    \"\"\"Container for the state of the system at any point of time\"\"\"\n",
    "    def __init__(self, lam, p, mu):\n",
    "        \"\"\"A microtubule system is defined by the 3 parameters\"\"\"\n",
    "        self._chain = np.array([1])\n",
    "        self._t = 0\n",
    "        self.lam = lam\n",
    "        self.p = p\n",
    "        self.mu = mu\n",
    "        \n",
    "    @property\n",
    "    def t(self):\n",
    "        return self._t\n",
    "\n",
    "    @property\n",
    "    def chain(self):\n",
    "        return self._chain\n",
    "    \n",
    "    @property\n",
    "    def n(self):\n",
    "        return len(self._chain)\n",
    "    \n",
    "    @property\n",
    "    def capsize(self):\n",
    "        \"\"\"Returns the length of the GTP cap\"\"\"\n",
    "        if self._chain[-1]==1:\n",
    "            return self.islands()[-1]\n",
    "        else:\n",
    "            return 0\n",
    "    \n",
    "    def islands(self):\n",
    "        \"\"\"Returns the lengths of all the GTP islands\"\"\"\n",
    "        return island_lens(self.chain)\n",
    "        \n",
    "    def step(self):\n",
    "        \"\"\"Implements one step in the BLK algorithm\"\"\"\n",
    "        chain, dt = microtubule_step(self._chain, self.lam, self.p, self.mu)\n",
    "        self._chain = chain\n",
    "        self._t += dt"
   ]
  },
  {
   "cell_type": "markdown",
   "metadata": {},
   "source": [
    "---"
   ]
  },
  {
   "cell_type": "markdown",
   "metadata": {},
   "source": [
    "## Figure 1\n",
    "Figure 1 shows the evolution of the length of the microtubule with time, with different values of $\\lambda$. \n",
    "\n",
    "Mirroring the values from the paper, I have chosen $p=1$, $\\mu=5$ and $\\lambda = 1.4, 1.5, 1.6$"
   ]
  },
  {
   "cell_type": "code",
   "execution_count": 9,
   "metadata": {},
   "outputs": [],
   "source": [
    "sp = State(1.4, 1, 5)"
   ]
  },
  {
   "cell_type": "markdown",
   "metadata": {},
   "source": [
    "The initial run will take ~3-5 seconds, as the JIT compiler translates the Python code to low level machine code."
   ]
  },
  {
   "cell_type": "code",
   "execution_count": 10,
   "metadata": {},
   "outputs": [
    {
     "name": "stdout",
     "output_type": "stream",
     "text": [
      "CPU times: user 2.17 s, sys: 18.8 ms, total: 2.19 s\n",
      "Wall time: 2.19 s\n"
     ]
    }
   ],
   "source": [
    "%%time\n",
    "lens = [sp.n]\n",
    "t = [sp.t]\n",
    "while t[-1]<10000:\n",
    "    sp.step()\n",
    "    lens.append(sp.n)\n",
    "    t.append(sp.t)\n",
    "t = np.array(t)\n",
    "lens = np.array(lens)"
   ]
  },
  {
   "cell_type": "code",
   "execution_count": 11,
   "metadata": {
    "scrolled": false
   },
   "outputs": [
    {
     "data": {
      "image/png": "[encoded data removed]",
      "text/plain": [
       "<Figure size 432x288 with 1 Axes>"
      ]
     },
     "metadata": {
      "needs_background": "light"
     },
     "output_type": "display_data"
    }
   ],
   "source": [
    "plt.plot(t, lens, color='k', lw=1)\n",
    "plt.xlim(0,10000)\n",
    "plt.ylim(0,250)\n",
    "plt.yticks(np.linspace(plt.ylim()[0],plt.ylim()[1],6))\n",
    "plt.xlabel(\"Time\")\n",
    "plt.ylabel(\"Length\")\n",
    "plt.savefig(\"plots/1a.pdf\")"
   ]
  },
  {
   "cell_type": "code",
   "execution_count": 12,
   "metadata": {},
   "outputs": [],
   "source": [
    "sp = State(1.5, 1, 5)"
   ]
  },
  {
   "cell_type": "code",
   "execution_count": 13,
   "metadata": {},
   "outputs": [
    {
     "name": "stdout",
     "output_type": "stream",
     "text": [
      "CPU times: user 150 ms, sys: 11.7 ms, total: 162 ms\n",
      "Wall time: 161 ms\n"
     ]
    }
   ],
   "source": [
    "%%time\n",
    "lens = [sp.n]\n",
    "t = [sp.t]\n",
    "while t[-1]<10000:\n",
    "    sp.step()\n",
    "    lens.append(sp.n)\n",
    "    t.append(sp.t)\n",
    "t = np.array(t)\n",
    "lens = np.array(lens)"
   ]
  },
  {
   "cell_type": "code",
   "execution_count": 14,
   "metadata": {},
   "outputs": [
    {
     "data": {
      "image/png": "[encoded data removed]",
      "text/plain": [
       "<Figure size 432x288 with 1 Axes>"
      ]
     },
     "metadata": {
      "needs_background": "light"
     },
     "output_type": "display_data"
    }
   ],
   "source": [
    "plt.plot(t, lens, color='k', lw=1)\n",
    "plt.xlim(0,10000)\n",
    "plt.ylim(0,500)\n",
    "plt.yticks(np.linspace(plt.ylim()[0],plt.ylim()[1],6))\n",
    "plt.xlabel(\"Time\")\n",
    "plt.ylabel(\"Length\")\n",
    "plt.savefig(\"plots/1b.pdf\")"
   ]
  },
  {
   "cell_type": "code",
   "execution_count": 15,
   "metadata": {},
   "outputs": [],
   "source": [
    "sp = State(1.6, 1, 5)"
   ]
  },
  {
   "cell_type": "code",
   "execution_count": 16,
   "metadata": {},
   "outputs": [
    {
     "name": "stdout",
     "output_type": "stream",
     "text": [
      "CPU times: user 209 ms, sys: 3.87 ms, total: 213 ms\n",
      "Wall time: 212 ms\n"
     ]
    }
   ],
   "source": [
    "%%time\n",
    "lens = [sp.n]\n",
    "t = [sp.t]\n",
    "while t[-1]<10000:\n",
    "    sp.step()\n",
    "    lens.append(sp.n)\n",
    "    t.append(sp.t)\n",
    "t = np.array(t)\n",
    "lens = np.array(lens)"
   ]
  },
  {
   "cell_type": "code",
   "execution_count": 17,
   "metadata": {},
   "outputs": [
    {
     "data": {
      "image/png": "[encoded data removed]",
      "text/plain": [
       "<Figure size 432x288 with 1 Axes>"
      ]
     },
     "metadata": {
      "needs_background": "light"
     },
     "output_type": "display_data"
    }
   ],
   "source": [
    "plt.plot(t, lens, color='k', lw=1)\n",
    "plt.xlim(0,10000)\n",
    "plt.ylim(0,2000)\n",
    "plt.yticks(np.linspace(plt.ylim()[0],plt.ylim()[1],6))\n",
    "plt.xlabel(\"Time\")\n",
    "plt.ylabel(\"Length\")\n",
    "plt.savefig(\"plots/1c.pdf\")"
   ]
  },
  {
   "cell_type": "markdown",
   "metadata": {},
   "source": [
    "---"
   ]
  },
  {
   "cell_type": "markdown",
   "metadata": {},
   "source": [
    "## Figures 4 and 5\n",
    "Figure 4 shows the distribution of the length of the GTP cap of the microtubule, and Figure 5 shows the distribution of the length of the GTP islands in the microtubule"
   ]
  },
  {
   "cell_type": "code",
   "execution_count": 18,
   "metadata": {},
   "outputs": [],
   "source": [
    "@np.vectorize\n",
    "def prob(k, lam):\n",
    "    \"\"\"Probability of GTP capsize being k\"\"\"\n",
    "    return 1/np.product((lam+1+k-np.arange(k+1))/lam)/lam*(k+1)\n",
    "\n",
    "def iprob(k, lam):\n",
    "    \"\"\"Probability of GTP island length being k\"\"\"\n",
    "    return 4/(k*(k+1)*(k+2))"
   ]
  },
  {
   "cell_type": "code",
   "execution_count": 19,
   "metadata": {},
   "outputs": [
    {
     "name": "stdout",
     "output_type": "stream",
     "text": [
      "Sum of Capsize Probabilites: 1.00000\n"
     ]
    }
   ],
   "source": [
    "print(f\"Sum of Capsize Probabilites: {prob(np.arange(0,100), 100).sum():.5f}\")"
   ]
  },
  {
   "cell_type": "code",
   "execution_count": 20,
   "metadata": {},
   "outputs": [
    {
     "name": "stdout",
     "output_type": "stream",
     "text": [
      "Sum of Island Probabilites: 1.00000\n"
     ]
    }
   ],
   "source": [
    "print(f\"Sum of Island Probabilites: {iprob(np.arange(1,1000000), 100).sum():.5f}\")"
   ]
  },
  {
   "cell_type": "code",
   "execution_count": 21,
   "metadata": {},
   "outputs": [],
   "source": [
    "sp = State(100,1,0)"
   ]
  },
  {
   "cell_type": "code",
   "execution_count": 22,
   "metadata": {},
   "outputs": [
    {
     "name": "stdout",
     "output_type": "stream",
     "text": [
      "CPU times: user 5.79 s, sys: 11.7 ms, total: 5.8 s\n",
      "Wall time: 5.8 s\n"
     ]
    }
   ],
   "source": [
    "%%time\n",
    "lens = [sp.n]\n",
    "t = [sp.t]\n",
    "cs = [sp.capsize]\n",
    "isl = [sp.islands()]\n",
    "# while t[-1]<10000:\n",
    "for i in range(50000):\n",
    "# while lens[-1]<1e5:\n",
    "    sp.step()\n",
    "    lens.append(sp.n)\n",
    "    t.append(sp.t)\n",
    "    cs.append(sp.capsize)\n",
    "    if sp.capsize == 0:\n",
    "        isl.append(sp.islands())\n",
    "    else:\n",
    "        isl.append(sp.islands()[:-1])"
   ]
  },
  {
   "cell_type": "code",
   "execution_count": 23,
   "metadata": {},
   "outputs": [],
   "source": [
    "cs = np.array(cs)"
   ]
  },
  {
   "cell_type": "code",
   "execution_count": 24,
   "metadata": {
    "scrolled": false
   },
   "outputs": [
    {
     "data": {
      "image/png": "[encoded data removed]",
      "text/plain": [
       "<Figure size 432x288 with 1 Axes>"
      ]
     },
     "metadata": {
      "needs_background": "light"
     },
     "output_type": "display_data"
    }
   ],
   "source": [
    "# plt.figure(figsize=(6,4))\n",
    "bins, counts = np.unique(cs[cs>0], return_counts=True)\n",
    "plt.plot(bins, counts/counts.sum(), ls='', marker='o', mfc='none', mew=1, markersize=10, label='Simulation')\n",
    "plt.yscale('log')\n",
    "plt.xscale(\"log\")\n",
    "plt.plot((np.arange(1,100)), prob(np.arange(1,100),100), color='g', lw=2.5, label='Theory')\n",
    "plt.ylim(10**-9,1)\n",
    "plt.yticks(10**np.linspace(-8,0,5))\n",
    "plt.xlim(1,100)\n",
    "plt.xlabel(\"Cap size k\")\n",
    "plt.ylabel(\"Probability of Cap size k\")\n",
    "plt.legend()\n",
    "plt.savefig(\"plots/4.pdf\")"
   ]
  },
  {
   "cell_type": "code",
   "execution_count": 25,
   "metadata": {},
   "outputs": [],
   "source": [
    "il = np.concatenate(isl)"
   ]
  },
  {
   "cell_type": "code",
   "execution_count": 26,
   "metadata": {},
   "outputs": [
    {
     "data": {
      "image/png": "[encoded data removed]",
      "text/plain": [
       "<Figure size 432x288 with 1 Axes>"
      ]
     },
     "metadata": {
      "needs_background": "light"
     },
     "output_type": "display_data"
    }
   ],
   "source": [
    "# counts, bins = np.histogram(il, bins=(np.arange(1,100)-0.5));\n",
    "# bins = 0.5*(bins[1:] + bins[:-1])\n",
    "bins, counts = np.unique(il, return_counts=True)\n",
    "plt.plot(bins, counts/counts.sum(), ls='', marker='o', mfc='none', mew=1, markersize=10, label='Simulation')\n",
    "plt.yscale('log')\n",
    "plt.xscale('log')\n",
    "plt.plot(np.arange(1,100), iprob(np.arange(1,100),100), color='g', lw=2.5, label=\"Theory\")\n",
    "plt.ylim(10**-8,100)\n",
    "plt.xlim(1,100)\n",
    "plt.xlabel(\"Island Size k\")\n",
    "plt.ylabel(\"Probability of Island Size k\")\n",
    "plt.legend()\n",
    "plt.savefig(\"plots/5.pdf\")"
   ]
  },
  {
   "cell_type": "code",
   "execution_count": 27,
   "metadata": {},
   "outputs": [],
   "source": [
    "def check_bound_chains(mu, lam, p):\n",
    "    \"\"\"Checks if a chain is bounded\n",
    "    \n",
    "    Unbounded chain is one which does not\n",
    "    exceed length 5000 after 100,000 steps.\n",
    "    This is a very crude approximation, and\n",
    "    in general the bounding value of mu is\n",
    "    underestimated.\n",
    "    \"\"\"\n",
    "    sp = State(lam, p, mu)\n",
    "    for i in range(100_000):\n",
    "        sp.step()\n",
    "        if sp.n>5000:\n",
    "            return False\n",
    "    return True"
   ]
  },
  {
   "cell_type": "code",
   "execution_count": 28,
   "metadata": {},
   "outputs": [],
   "source": [
    "mu_array = np.round(np.linspace(0,10,101),2)"
   ]
  },
  {
   "cell_type": "code",
   "execution_count": 29,
   "metadata": {},
   "outputs": [],
   "source": [
    "lam_array = {0.1 : np.round(np.linspace(0,4,51),2)[1:],\n",
    "             1 : np.round(np.linspace(0,2,51),2)[1:]}"
   ]
  },
  {
   "cell_type": "markdown",
   "metadata": {},
   "source": [
    "Run for p = 0.1"
   ]
  },
  {
   "cell_type": "code",
   "execution_count": 30,
   "metadata": {},
   "outputs": [],
   "source": [
    "p = 0.1"
   ]
  },
  {
   "cell_type": "code",
   "execution_count": 31,
   "metadata": {},
   "outputs": [
    {
     "name": "stdout",
     "output_type": "stream",
     "text": [
      "Progress: 0.0\n",
      "Progress: 0.02\n",
      "Progress: 0.04\n",
      "Progress: 0.06\n",
      "Progress: 0.08\n",
      "Progress: 0.1\n",
      "Progress: 0.12\n",
      "Progress: 0.14\n",
      "Progress: 0.16\n",
      "Progress: 0.18\n",
      "Progress: 0.2\n",
      "Progress: 0.22\n",
      "Progress: 0.24\n",
      "Progress: 0.26\n",
      "Progress: 0.28\n",
      "Progress: 0.3\n",
      "Progress: 0.32\n",
      "Progress: 0.34\n",
      "Progress: 0.36\n",
      "Progress: 0.38\n",
      "Progress: 0.4\n",
      "Progress: 0.42\n",
      "Progress: 0.44\n",
      "Progress: 0.46\n",
      "Progress: 0.48\n",
      "Progress: 0.5\n",
      "Progress: 0.52\n",
      "Progress: 0.54\n",
      "Progress: 0.56\n",
      "Progress: 0.58\n",
      "Progress: 0.6\n",
      "Progress: 0.62\n",
      "Progress: 0.64\n",
      "Progress: 0.66\n",
      "Progress: 0.68\n",
      "Progress: 0.7\n",
      "Progress: 0.72\n",
      "Progress: 0.74\n",
      "Progress: 0.76\n",
      "Progress: 0.78\n",
      "Progress: 0.8\n",
      "Progress: 0.82\n",
      "Progress: 0.84\n",
      "Progress: 0.86\n",
      "Progress: 0.88\n",
      "Progress: 0.9\n",
      "Progress: 0.92\n",
      "Progress: 0.94\n",
      "Progress: 0.96\n",
      "Progress: 0.98\n",
      "CPU times: user 786 ms, sys: 1.19 s, total: 1.97 s\n",
      "Wall time: 11min 37s\n"
     ]
    }
   ],
   "source": [
    "%%time\n",
    "bounded = []\n",
    "for prog, lam in enumerate(lam_array[p]):\n",
    "    par_save = partial(check_bound_chains, lam=lam, p=p)\n",
    "    with pool.Pool(4) as po:\n",
    "        res = po.map(par_save, mu_array)\n",
    "    print(f\"Progress: {prog/lam_array[p].size}\")\n",
    "    bounded.append(res)\n",
    "bounded = np.array(bounded)\n",
    "np.save(f'chains/bound_{p}', bounded)"
   ]
  },
  {
   "cell_type": "markdown",
   "metadata": {},
   "source": [
    "Run for p = 1"
   ]
  },
  {
   "cell_type": "code",
   "execution_count": 32,
   "metadata": {},
   "outputs": [],
   "source": [
    "p = 1"
   ]
  },
  {
   "cell_type": "code",
   "execution_count": 33,
   "metadata": {},
   "outputs": [
    {
     "name": "stdout",
     "output_type": "stream",
     "text": [
      "Progress: 0.0\n",
      "Progress: 0.02\n",
      "Progress: 0.04\n",
      "Progress: 0.06\n",
      "Progress: 0.08\n",
      "Progress: 0.1\n",
      "Progress: 0.12\n",
      "Progress: 0.14\n",
      "Progress: 0.16\n",
      "Progress: 0.18\n",
      "Progress: 0.2\n",
      "Progress: 0.22\n",
      "Progress: 0.24\n",
      "Progress: 0.26\n",
      "Progress: 0.28\n",
      "Progress: 0.3\n",
      "Progress: 0.32\n",
      "Progress: 0.34\n",
      "Progress: 0.36\n",
      "Progress: 0.38\n",
      "Progress: 0.4\n",
      "Progress: 0.42\n",
      "Progress: 0.44\n",
      "Progress: 0.46\n",
      "Progress: 0.48\n",
      "Progress: 0.5\n",
      "Progress: 0.52\n",
      "Progress: 0.54\n",
      "Progress: 0.56\n",
      "Progress: 0.58\n",
      "Progress: 0.6\n",
      "Progress: 0.62\n",
      "Progress: 0.64\n",
      "Progress: 0.66\n",
      "Progress: 0.68\n",
      "Progress: 0.7\n",
      "Progress: 0.72\n",
      "Progress: 0.74\n",
      "Progress: 0.76\n",
      "Progress: 0.78\n",
      "Progress: 0.8\n",
      "Progress: 0.82\n",
      "Progress: 0.84\n",
      "Progress: 0.86\n",
      "Progress: 0.88\n",
      "Progress: 0.9\n",
      "Progress: 0.92\n",
      "Progress: 0.94\n",
      "Progress: 0.96\n",
      "Progress: 0.98\n",
      "CPU times: user 787 ms, sys: 1.42 s, total: 2.2 s\n",
      "Wall time: 10min 57s\n"
     ]
    }
   ],
   "source": [
    "%%time\n",
    "bounded = []\n",
    "for prog, lam in enumerate(lam_array[p]):\n",
    "    par_save = partial(check_bound_chains, lam=lam, p=p)\n",
    "    with pool.Pool(4) as po:\n",
    "        res = po.map(par_save, mu_array)\n",
    "    print(f\"Progress: {prog/lam_array[p].size}\")\n",
    "    bounded.append(res)\n",
    "bounded = np.array(bounded)\n",
    "np.save(f'chains/bound_{p}', bounded)"
   ]
  },
  {
   "cell_type": "markdown",
   "metadata": {},
   "source": [
    "---"
   ]
  },
  {
   "cell_type": "markdown",
   "metadata": {},
   "source": [
    "Make a custom colormap for the phase diagram"
   ]
  },
  {
   "cell_type": "code",
   "execution_count": 34,
   "metadata": {},
   "outputs": [],
   "source": [
    "cmap = mpl.colors.ListedColormap(['tab:red', 'tab:green'])\n",
    "bounds = [-0.5,0.5,1.5]\n",
    "norm = mpl.colors.BoundaryNorm(bounds, cmap.N)"
   ]
  },
  {
   "cell_type": "markdown",
   "metadata": {},
   "source": [
    "Make the Phase Diagram for the two cases, $p=1$ and $p=0.1$"
   ]
  },
  {
   "cell_type": "code",
   "execution_count": 35,
   "metadata": {},
   "outputs": [
    {
     "data": {
      "image/png": "[encoded data removed]",
      "text/plain": [
       "<Figure size 432x288 with 1 Axes>"
      ]
     },
     "metadata": {
      "needs_background": "light"
     },
     "output_type": "display_data"
    }
   ],
   "source": [
    "p = 0.1\n",
    "image = np.load(f'chains/bound_{p}.npy')\n",
    "\n",
    "plt.imshow(image.T, origin='lower', extent=(0,4,0,8), aspect='auto', cmap=cmap, norm=norm, alpha=0.5)\n",
    "plt.plot(lam_array[p], p*lam_array[p] + p*lam_array[p]**2, 'r--')\n",
    "plt.xticks(np.linspace(0,4,5))\n",
    "plt.yticks(np.linspace(0,8,5))\n",
    "plt.text(1,6,'compact', ha='center', va='top')\n",
    "plt.text(3.5,1,'growing', ha='center', va='top')\n",
    "plt.xlabel(\"λ\")\n",
    "plt.ylabel(\"μ\")\n",
    "plt.savefig(\"plots/6b.pdf\")"
   ]
  },
  {
   "cell_type": "code",
   "execution_count": 36,
   "metadata": {},
   "outputs": [
    {
     "data": {
      "image/png": "[encoded data removed]",
      "text/plain": [
       "<Figure size 432x288 with 1 Axes>"
      ]
     },
     "metadata": {
      "needs_background": "light"
     },
     "output_type": "display_data"
    }
   ],
   "source": [
    "p = 1\n",
    "image = np.load(f'chains/bound_{p}.npy')\n",
    "\n",
    "plt.imshow(image.T, origin='lower', extent=(0,2,0,8), aspect='auto', cmap=cmap, norm=norm, alpha=0.5)\n",
    "plt.plot(lam_array[p], p*lam_array[p] + p*lam_array[p]**2, 'r--')\n",
    "plt.xticks(np.linspace(0,2,5), ['0', '0.5', '1', '1.5', '2'])\n",
    "plt.yticks(np.linspace(0,8,5))\n",
    "plt.text(0.5,6,'compact', ha='center', va='top')\n",
    "plt.text(1.5,2,'growing', ha='center', va='top')\n",
    "plt.xlabel(\"λ\")\n",
    "plt.ylabel(\"μ\")\n",
    "plt.savefig(\"plots/6a.pdf\")"
   ]
  }
 ],
 "metadata": {
  "kernelspec": {
   "display_name": "Python 3",
   "language": "python",
   "name": "python3"
  },
  "language_info": {
   "codemirror_mode": {
    "name": "ipython",
    "version": 3
   },
   "file_extension": ".py",
   "mimetype": "text/x-python",
   "name": "python",
   "nbconvert_exporter": "python",
   "pygments_lexer": "ipython3",
   "version": "3.7.7"
  }
 },
 "nbformat": 4,
 "nbformat_minor": 4
}
